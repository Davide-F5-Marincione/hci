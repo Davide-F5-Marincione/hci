{
 "cells": [
  {
   "cell_type": "markdown",
   "metadata": {
    "slideshow": {
     "slide_type": "slide"
    }
   },
   "source": [
    "# Survery Data Analysis\n",
    "\n",
    "We use pandas to present some characteristics of our data graphically!"
   ]
  },
  {
   "cell_type": "code",
   "execution_count": null,
   "metadata": {
    "slideshow": {
     "slide_type": "skip"
    }
   },
   "outputs": [],
   "source": [
    "# My exact environment is available in the directory\n",
    "# however, it's really bloated and I suggest you\n",
    "# manually install the necessary packages\n",
    "\n",
    "%matplotlib inline"
   ]
  },
  {
   "cell_type": "code",
   "execution_count": null,
   "metadata": {
    "slideshow": {
     "slide_type": "skip"
    }
   },
   "outputs": [],
   "source": [
    "import pandas as pd"
   ]
  },
  {
   "cell_type": "code",
   "execution_count": null,
   "metadata": {
    "slideshow": {
     "slide_type": "skip"
    }
   },
   "outputs": [],
   "source": [
    "df = pd.read_csv('questionario_post_pulizia.csv')"
   ]
  },
  {
   "cell_type": "code",
   "execution_count": null,
   "metadata": {
    "slideshow": {
     "slide_type": "skip"
    }
   },
   "outputs": [],
   "source": [
    "df[\"usa_mezzi\"] = df[\"usa_mezzi\"].replace({\"Si\": True, \"No\": False})"
   ]
  },
  {
   "cell_type": "markdown",
   "metadata": {
    "slideshow": {
     "slide_type": "slide"
    }
   },
   "source": [
    "Ecco una rapida occhiata al Dataframe:"
   ]
  },
  {
   "cell_type": "code",
   "execution_count": null,
   "metadata": {},
   "outputs": [],
   "source": [
    "# Il df è di questa forma\n",
    "# Index(['orario', 'eta', 'dispositivo', 'usa_mezzi', 'freq_mezzi',\n",
    "#       'provincia_mezzi', 'che_mezzi', 'disservizi', 'applicazioni',\n",
    "#       'affidabilita_app', 'interesse_crowdsource', 'interesse_partecipazione',\n",
    "#       'interesse_posizione', 'preferenza_salita', 'interesse_classifica',\n",
    "#       'interesse_sblocco_feature', 'interesse_sblocco_custom',\n",
    "#       'interesse_donazioni', 'suggerimenti', 'Treno', 'Bus', 'Tram', 'Metro',\n",
    "#       'province'],\n",
    "#      dtype='object')"
   ]
  },
  {
   "cell_type": "code",
   "execution_count": null,
   "metadata": {
    "slideshow": {
     "slide_type": "subslide"
    },
    "tags": []
   },
   "outputs": [],
   "source": [
    "cols = [\"orario\", \"eta\", \"dispositivo\", \"applicazioni\", \"provincia_mezzi\", \"disservizi\"]\n",
    "\n",
    "# display head\n",
    "\n",
    "df[cols].head()"
   ]
  },
  {
   "cell_type": "markdown",
   "metadata": {
    "slideshow": {
     "slide_type": "slide"
    }
   },
   "source": [
    "Per prima cosa, guardiamo rapidamente che dispositivi sono stati utilizzati:"
   ]
  },
  {
   "cell_type": "code",
   "execution_count": null,
   "metadata": {
    "slideshow": {
     "slide_type": "subslide"
    }
   },
   "outputs": [],
   "source": [
    "#group by dispositivo (Android, iOS)\n",
    "\n",
    "devices = df.groupby('dispositivo')\n",
    "\n",
    "import seaborn as sns\n",
    "import matplotlib.pyplot as plt\n",
    "\n",
    "#paper style\n",
    "sns.set_theme(style=\"whitegrid\")\n",
    "sns.set_context(\"paper\")\n",
    "\n",
    "#plot\n",
    "\n",
    "fig, ax = plt.subplots(figsize=(10, 6))\n",
    "\n",
    "sns.countplot(x=\"dispositivo\", data=df, ax=ax)\n",
    "\n",
    "ax.set_title(\"Dispositivo utilizzato per compilare il questionario\")\n",
    "\n",
    "ax.set_xlabel(\"Dispositivo\")\n",
    "\n",
    "ax.set_ylabel(\"Numero di risposte\")\n",
    "\n",
    "plt.show()\n"
   ]
  },
  {
   "cell_type": "markdown",
   "metadata": {
    "slideshow": {
     "slide_type": "subslide"
    }
   },
   "source": [
    "Diamo anche un occhiata alle provincie:"
   ]
  },
  {
   "cell_type": "code",
   "execution_count": null,
   "metadata": {
    "slideshow": {
     "slide_type": "subslide"
    },
    "tags": []
   },
   "outputs": [],
   "source": [
    "# plot answers by province\n",
    "\n",
    "fig, ax = plt.subplots(figsize=(10, 5))\n",
    "\n",
    "sns.countplot(x=\"provincia_mezzi\", data=df, ax=ax,palette=\"summer\")\n",
    "\n",
    "ax.set_xticklabels(rotation=30, labels=ax.get_xticklabels())\n",
    "\n",
    "ax.set(xlabel='Provincia', ylabel='Numero di risposte')\n",
    "\n",
    "fig.suptitle('Utilizzo dei mezzi pubblici per provincia')\n",
    "\n",
    "plt.savefig('provincia_mezzi.png', dpi=300, bbox_inches='tight')\n",
    "\n",
    "\n"
   ]
  },
  {
   "cell_type": "markdown",
   "metadata": {
    "slideshow": {
     "slide_type": "slide"
    }
   },
   "source": [
    "Ci accorgiamo che la maggior parte delle persone proviene da Roma (no surprise), una minoranza delle risposte\n",
    "arriva anche da Napoli e Milano"
   ]
  },
  {
   "cell_type": "markdown",
   "metadata": {
    "slideshow": {
     "slide_type": "subslide"
    }
   },
   "source": [
    "Per proseguire, diamo uno sguardo anche alle risposte in ordine di età."
   ]
  },
  {
   "cell_type": "code",
   "execution_count": null,
   "metadata": {
    "slideshow": {
     "slide_type": "subslide"
    },
    "tags": []
   },
   "outputs": [],
   "source": [
    "# Number of answers by age group\n",
    "g = sns.countplot(x=\"eta\", data=df, palette=\"summer\", order=[\"<18\", \"18-25\", \"25-35\", \"35-55\", \"55>\"])\n",
    "\n",
    "g.set(xlabel='Età', ylabel='Numero di risposte')\n",
    "g.set_xticklabels(rotation=30, labels=g.get_xticklabels())\n",
    "\n",
    "fig.suptitle('Numero di risposte per età')\n",
    "\n",
    "plt.savefig('eta.png', dpi=300, bbox_inches='tight')\n"
   ]
  },
  {
   "cell_type": "markdown",
   "metadata": {
    "slideshow": {
     "slide_type": "slide"
    }
   },
   "source": [
    "Adesso guardiamo i mezzi di trasporto preferiti, e, per curiosità, incrociamoli\n",
    "con i dispositivi utilizzati"
   ]
  },
  {
   "cell_type": "code",
   "execution_count": null,
   "metadata": {
    "slideshow": {
     "slide_type": "subslide"
    },
    "tags": []
   },
   "outputs": [],
   "source": [
    "mezzi = [\"Treno\", \"Bus\", \"Tram\", \"Metro\"]\n",
    "\n",
    "# split the \"che_mezzi\" column and create a new column for each mean of transport\n",
    "for mezzo in mezzi:\n",
    "    df[mezzo] = df[\"che_mezzi\"].str.contains(mezzo)\n",
    "\n",
    "# melt the DataFrame to convert the new columns to a \"mezzi\" column and a \"value\" column\n",
    "melted_df = pd.melt(df, id_vars=[\"dispositivo\"], value_vars=mezzi, var_name=\"mezzi\", value_name=\"value\")\n",
    "\n",
    "# group the melted DataFrame by \"mezzi\" and \"usa_mezzi\" and count the number of users who use each mean of transport\n",
    "counts_df = melted_df.groupby([\"mezzi\", \"dispositivo\"])[\"value\"].sum().reset_index(name=\"count\")\n",
    "\n",
    "# create a barplot to display the results\n",
    "sns.histplot(data=counts_df, x=\"mezzi\", weights=\"count\", stat=\"count\", shrink=0.8, palette=\"summer\", hue=\"dispositivo\", multiple=\"stack\", discrete=True)\n",
    "\n",
    "# set the title and the labels\n",
    "plt.title(\"Number of users who use each mean of transport by device\")\n",
    "plt.xlabel(\"Means of transport\")\n",
    "plt.ylabel(\"Number of users\")\n",
    "plt.xticks(rotation=45)\n",
    "plt.show()\n"
   ]
  },
  {
   "cell_type": "markdown",
   "metadata": {
    "slideshow": {
     "slide_type": "slide"
    }
   },
   "source": [
    "Passiamo a un dato importante: i disservizi (rilevanti) più segnalati:"
   ]
  },
  {
   "cell_type": "code",
   "execution_count": null,
   "metadata": {
    "slideshow": {
     "slide_type": "subslide"
    }
   },
   "outputs": [],
   "source": [
    "# disservizi contains a list of disservizi separated by a comma, collect all the unique disservizi\n",
    "# filter only the ones that appear more than twice\n",
    "\n",
    "disservizi = df[\"disservizi\"].str.split(\",\", expand=True).stack().str.strip().value_counts()\n",
    "\n",
    "disservizi = disservizi[disservizi > 1]\n",
    "\n",
    "disservizi = disservizi.reset_index()\n",
    "disservizi.columns = [\"disservizio\", \"numero di segnalazioni\"]\n",
    "\n",
    "g = sns.barplot(x=\"disservizio\", y=\"numero di segnalazioni\", data=disservizi, palette=\"summer\")\n",
    "\n",
    "g.set_xticklabels(rotation=30, labels=g.get_xticklabels())\n",
    "g.set(xlabel='Disservizio', ylabel='Numero di segnalazioni')\n",
    "g.set_title(\"Disservizi più segnalati\")\n",
    "g.figure.savefig('disservizi.png', dpi=300, bbox_inches='tight')\n",
    "\n",
    "plt.show()"
   ]
  },
  {
   "cell_type": "markdown",
   "metadata": {
    "slideshow": {
     "slide_type": "slide"
    }
   },
   "source": [
    "adesso, per ogni provincia, diamo un occhiata ai mezzi pubblici più usati"
   ]
  },
  {
   "cell_type": "code",
   "execution_count": null,
   "metadata": {
    "slideshow": {
     "slide_type": "subslide"
    },
    "tags": []
   },
   "outputs": [],
   "source": [
    "# create a new column for the province of each user\n",
    "df[\"province\"] = df[\"provincia_mezzi\"].apply(lambda x: x if x in [\"Roma\", \"Milano\", \"Napoli\"] else \"Altro\")\n",
    "\n",
    "# split the \"che_mezzi\" column and create a new column for each mean of transport\n",
    "for mezzo in mezzi:\n",
    "    df[mezzo] = df[\"che_mezzi\"].str.contains(mezzo)\n",
    "\n",
    "# melt the DataFrame to convert the new columns to a \"mezzi\" column and a \"value\" column\n",
    "melted_df = pd.melt(df, id_vars=[\"province\"], value_vars=mezzi, var_name=\"Mezzi\", value_name=\"value\")\n",
    "\n",
    "# group the melted DataFrame by \"province\" and \"Mezzi\" and count the number of users who use each mean of transport\n",
    "counts_df = melted_df.groupby([\"province\", \"Mezzi\"])[\"value\"].sum().reset_index(name=\"count\")\n",
    "\n",
    "# create a barplot to display the results\n",
    "sns.barplot(data=counts_df, x=\"province\", y=\"count\", hue=\"Mezzi\", palette=\"summer\", dodge=True, hue_order=[\"Treno\", \"Bus\", \"Tram\", \"Metro\"], order=[\"Roma\", \"Milano\", \"Napoli\", \"Altro\"])\n",
    "\n",
    "# set the order of the xticks\n",
    "\n",
    "# set the title and the labels\n",
    "plt.title(\"Numero di utenti che utilizzano i mezzi pubblici per provincia\")\n",
    "plt.xlabel(\"Provincia\")\n",
    "plt.ylabel(\"Numero di utenti\")\n",
    "plt.xticks(rotation=45)\n",
    "plt.show()\n"
   ]
  },
  {
   "cell_type": "markdown",
   "metadata": {
    "slideshow": {
     "slide_type": "slide"
    }
   },
   "source": [
    "Un grafico completo (ma piuttosto impegnativo) che incrocia le varie preferenze in \n",
    "base all età:"
   ]
  },
  {
   "cell_type": "code",
   "execution_count": null,
   "metadata": {
    "slideshow": {
     "slide_type": "subslide"
    },
    "tags": []
   },
   "outputs": [],
   "source": [
    "\n",
    "# define the list of metrics\n",
    "metrics = [\"interesse_crowdsource\", \"interesse_partecipazione\", \"interesse_classifica\", \"interesse_sblocco_feature\", \"interesse_sblocco_custom\", \"interesse_donazioni\"]\n",
    "\n",
    "\n",
    "\n",
    "\n",
    "human_readable_metrics = [\"Interesse crowdsource\", \"Intenzione partecipazione\", \"Classifica\", \"Sblocco features\", \"Sblocco personalizzazioni\", \"Beneficenza\"]\n",
    "\n",
    "mapping = dict(zip(metrics, human_readable_metrics))\n",
    "\n",
    "\n",
    "# melt the DataFrame to tidy it up\n",
    "tidy_df = df.melt(id_vars=\"eta\", value_vars=metrics, var_name=\"metric\", value_name=\"score\")\n",
    "\n",
    "# create a FacetGrid to display the results\n",
    "g = sns.FacetGrid(tidy_df, col=\"metric\", row=\"eta\", margin_titles=True, sharex=False, height=2, aspect=1.0, row_order=[\"<18\", \"18-25\", \"25-35\", \"35-55\", \"55>\"],\n",
    "                  dropna=True, col_order=metrics, despine=True, hue=\"metric\", palette=\"summer\", hue_order=metrics)\n",
    "\n",
    "# set the title and the labels for each subplot\n",
    "\n",
    "g.set_titles(col_template=\"{col_name}\", row_template=\"{row_name}\")\n",
    "\n",
    "\n",
    "#set the xticks for each subplot\n",
    "g.set(xticks=[0.0, 1.0, 2.0, 3.0, 4.0, 5.0])\n",
    "\n",
    "# plot the results using a histogram\n",
    "g.map(sns.histplot, \"score\", bins=range(0, 6), alpha=0.5, stat=\"density\", kde=True)\n",
    "\n",
    "# add a legend to the plot\n",
    "g.add_legend()\n",
    "\n",
    "# display the plot\n",
    "\n",
    "g.fig.suptitle(\"Interesse per le funzionalità dell'app per età\")\n",
    "g.fig.subplots_adjust(top=0.90)\n",
    "\n",
    "\n",
    "plt.show()"
   ]
  },
  {
   "cell_type": "markdown",
   "metadata": {
    "slideshow": {
     "slide_type": "slide"
    }
   },
   "source": [
    "Visto che sono il gruppo più significativo, concentriamoci su i giovani..."
   ]
  },
  {
   "cell_type": "code",
   "execution_count": null,
   "metadata": {
    "slideshow": {
     "slide_type": "subslide"
    }
   },
   "outputs": [],
   "source": [
    "# plot the five metrics only for 18-25 years old users\n",
    "\n",
    "# create a FacetGrid to display the results\n",
    "\n",
    "g = sns.FacetGrid(tidy_df[tidy_df[\"eta\"] == \"18-25\"], col=\"metric\", margin_titles=True, sharex=False, height=2, aspect=1.0)\n",
    "\n",
    "# set the title and the labels for each subplot\n",
    "\n",
    "g.set_titles(col_template=\"{col_name}\")\n",
    "\n",
    "g.set_axis_labels(\"Score\", \"\")\n",
    "\n",
    "#set the xticks for each subplot\n",
    "\n",
    "g.set(xticks=[0.0, 1.0, 2.0, 3.0, 4.0, 5.0])\n",
    "\n",
    "# plot the results using a histogram\n",
    "\n",
    "g.map(sns.histplot, \"score\", bins=range(0, 6), alpha=0.5, stat=\"density\", kde=True, color = \"green\")\n",
    "\n",
    "# add a legend to the plot\n",
    "\n",
    "g.add_legend()\n",
    "\n",
    "# suptitle\n",
    "\n",
    "g.fig.suptitle(\"Interesse per le funzionalità dell'app per età 18-25\")\n",
    "g.fig.subplots_adjust(top=0.75)\n",
    "\n",
    "plt.show()\n",
    "\n"
   ]
  },
  {
   "cell_type": "markdown",
   "metadata": {
    "slideshow": {
     "slide_type": "slide"
    }
   },
   "source": [
    "Semplifichiamo e, per ogni metrica, mostriamo le preferenze delle varie età una accanto all altra"
   ]
  },
  {
   "cell_type": "code",
   "execution_count": null,
   "metadata": {
    "slideshow": {
     "slide_type": "subslide"
    },
    "tags": []
   },
   "outputs": [],
   "source": [
    "# show for each metric a boxplot with the distribution of the scores for each age group\n",
    "\n",
    "# create a FacetGrid to display the results\n",
    "\n",
    "g = sns.FacetGrid(tidy_df, col=\"metric\", margin_titles=True, sharex=False, height=2.5, aspect=0.8,\n",
    "                  despine=True)\n",
    "\n",
    "# set the title and the labels for each subplot\n",
    "\n",
    "g.set_titles(col_template=\"{col_name}\")\n",
    "\n",
    "g.set_axis_labels(\"\", \"Score\")\n",
    "\n",
    "# plot the results using a violinplot\n",
    "g.map(sns.violinplot, \"eta\", \"score\", order=[\"<18\", \"18-25\", \"25-35\", \"35-55\", \"55>\"], palette=\"summer\")\n",
    "\n",
    "# rotate the xticks\n",
    "for ax in g.axes.flat:\n",
    "    \n",
    "        \n",
    "    ax.set_xticklabels(ax.get_xticklabels(), rotation=45, horizontalalignment='right')\n",
    "    \n",
    "\n",
    "# display the plot\n",
    "g.figure.subplots_adjust(top=0.75)\n",
    "g.fig.suptitle(\"Distribuzione dei punteggi per età\")\n",
    "\n",
    "g.add_legend()\n",
    "\n",
    "# show\n",
    "\n",
    "plt.show()"
   ]
  },
  {
   "cell_type": "markdown",
   "metadata": {
    "slideshow": {
     "slide_type": "slide"
    }
   },
   "source": [
    "Semplifichiamo ulteriormente: ignoriamo i gruppi di età"
   ]
  },
  {
   "cell_type": "code",
   "execution_count": null,
   "metadata": {
    "slideshow": {
     "slide_type": "subslide"
    }
   },
   "outputs": [],
   "source": [
    "# create a FacetGrid to display the results\n",
    "g = sns.FacetGrid(tidy_df, col=\"metric\", margin_titles=True, sharex=False, height=2.5, aspect=0.8, despine=True)\n",
    "\n",
    "# set the title and the labels for each subplot\n",
    "g.set_titles(col_template=\"{col_name}\")\n",
    "g.set_axis_labels(\"\", \"Density\")\n",
    "\n",
    "# plot the results using a histplot with kde\n",
    "g.map(sns.histplot, \"score\", kde=True, bins=range(0, 6), stat=\"density\", alpha=0.5, color=\"green\")\n",
    "\n",
    "# display the plot\n",
    "g.fig.suptitle(\"Distribution of Scores for each Metric\")\n",
    "g.fig.subplots_adjust(top=0.85)\n",
    "\n",
    "# set the xticks for each subplot\n",
    "\n",
    "g.set(xticks=[0.0, 1.0, 2.0, 3.0, 4.0, 5.0])\n",
    "\n",
    "# show\n",
    "plt.show()\n"
   ]
  },
  {
   "cell_type": "markdown",
   "metadata": {
    "slideshow": {
     "slide_type": "slide"
    }
   },
   "source": [
    "In conclusione, diamo uno sguardo alle feature *approvate*, ovvero quelle che hanno ricevuto una \n",
    "maggioranza di voti $\\geq 3$:"
   ]
  },
  {
   "cell_type": "code",
   "execution_count": null,
   "metadata": {
    "slideshow": {
     "slide_type": "subslide"
    }
   },
   "outputs": [],
   "source": [
    "# For each metric, say if the majority of users are interested in it or not\n",
    "\n",
    "tidy_df[\"interested\"] = tidy_df[\"score\"] >= 3\n",
    "\n",
    "tidy_df[\"interested\"] = tidy_df[\"interested\"].replace({True: \"Interested\", False: \"Not interested\"})\n",
    "\n",
    "# count the number of users for each metric and for each category\n",
    "\n",
    "counts_df = tidy_df.groupby([\"metric\", \"interested\"]).size().reset_index(name=\"count\")\n",
    "\n",
    "# plot the results using a barplot\n",
    "\n",
    "g = sns.barplot(x=\"metric\", y=\"count\", hue=\"interested\", data=counts_df, hue_order=[\"Interested\", \"Not interested\"])\n",
    "\n",
    "plt.title(\"Numero di utenti interessati per metrica\")\n",
    "\n",
    "g.set_xticklabels(g.get_xticklabels(), rotation=30, horizontalalignment='right')\n",
    "\n",
    "plt.show()"
   ]
  }
 ],
 "metadata": {
  "celltoolbar": "Slideshow",
  "kernelspec": {
   "display_name": "Python 3 (ipykernel)",
   "language": "python",
   "name": "python3"
  },
  "language_info": {
   "codemirror_mode": {
    "name": "ipython",
    "version": 3
   },
   "file_extension": ".py",
   "mimetype": "text/x-python",
   "name": "python",
   "nbconvert_exporter": "python",
   "pygments_lexer": "ipython3",
   "version": "3.10.9"
  }
 },
 "nbformat": 4,
 "nbformat_minor": 2
}
