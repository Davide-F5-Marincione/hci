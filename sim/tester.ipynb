{
 "cells": [
  {
   "cell_type": "code",
   "execution_count": 3,
   "metadata": {},
   "outputs": [],
   "source": [
    "import requests"
   ]
  },
  {
   "cell_type": "code",
   "execution_count": 9,
   "metadata": {},
   "outputs": [
    {
     "name": "stdout",
     "output_type": "stream",
     "text": [
      "201\n"
     ]
    }
   ],
   "source": [
    "# post\n",
    "\n",
    "data = {\n",
    "    \"username\": \"neervana\",\n",
    "    \"firstname\": \"Dario\",\n",
    "    \"lastname\": \"Loi\",\n",
    "    \"email\" : \"dario.loi@gmail.com\"\n",
    "}\n",
    "\n",
    "# post to localhost:5000/users\n",
    "\n",
    "r = requests.post(\"http://localhost:5000/users\", json=data)\n",
    "\n",
    "print(r.status_code)\n",
    "\n"
   ]
  },
  {
   "cell_type": "code",
   "execution_count": 14,
   "metadata": {},
   "outputs": [
    {
     "name": "stdout",
     "output_type": "stream",
     "text": [
      "200\n",
      "['neervana', 'Dario', 'Loi', 'dario.loi@gmail.com', '15548936795600472465', 0, 0, 0]\n"
     ]
    }
   ],
   "source": [
    "r = requests.get(\"http://localhost:5000/users/neervana\", headers={\"Authorization\": \"15548936795600472465\"})\n",
    "\n",
    "print(r.status_code)\n",
    "print(r.json())"
   ]
  }
 ],
 "metadata": {
  "kernelspec": {
   "display_name": "app-server",
   "language": "python",
   "name": "python3"
  },
  "language_info": {
   "codemirror_mode": {
    "name": "ipython",
    "version": 3
   },
   "file_extension": ".py",
   "mimetype": "text/x-python",
   "name": "python",
   "nbconvert_exporter": "python",
   "pygments_lexer": "ipython3",
   "version": "3.11.3"
  },
  "orig_nbformat": 4
 },
 "nbformat": 4,
 "nbformat_minor": 2
}
